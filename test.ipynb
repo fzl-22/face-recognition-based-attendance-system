{
 "cells": [
  {
   "cell_type": "code",
   "execution_count": 1,
   "metadata": {},
   "outputs": [],
   "source": [
    "import numpy as np"
   ]
  },
  {
   "cell_type": "code",
   "execution_count": 2,
   "metadata": {},
   "outputs": [
    {
     "name": "stdout",
     "output_type": "stream",
     "text": [
      "[10  3  7  8 90]\n",
      "[ 1  4  3 20 11]\n",
      "['Cristiano' 'Mbappe' 'Modric' 'Griezmann']\n"
     ]
    }
   ],
   "source": [
    "arrFloat = np.array([10, 3, 7, 8, 90]) # secara default menjadi float\n",
    "arrInt = np.array([1, 4, 3, 20, 11], float) # array dengan tipe data integer\n",
    "arrStr = np.array(['Cristiano', 'Mbappe', 'Modric', 'Griezmann'])\n",
    "\n",
    "print(arrFloat)\n",
    "print(arrInt)\n",
    "print(arrStr)"
   ]
  }
 ],
 "metadata": {
  "kernelspec": {
   "display_name": "machine-learning",
   "language": "python",
   "name": "python3"
  },
  "language_info": {
   "codemirror_mode": {
    "name": "ipython",
    "version": 3
   },
   "file_extension": ".py",
   "mimetype": "text/x-python",
   "name": "python",
   "nbconvert_exporter": "python",
   "pygments_lexer": "ipython3",
   "version": "3.10.8"
  },
  "orig_nbformat": 4,
  "vscode": {
   "interpreter": {
    "hash": "38cc20694664ffe140f9531d896ee87c2a2d638fbe0528ab6506d4fb8ae31ede"
   }
  }
 },
 "nbformat": 4,
 "nbformat_minor": 2
}
